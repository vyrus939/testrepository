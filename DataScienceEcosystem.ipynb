{
 "cells": [
  {
   "cell_type": "markdown",
   "id": "0ca749e8",
   "metadata": {},
   "source": [
    "# Data Science Tools and Ecosystem"
   ]
  },
  {
   "cell_type": "markdown",
   "id": "e4550e08",
   "metadata": {},
   "source": [
    "In this notebook, Data Science Tools and Ecosystem are summarized."
   ]
  },
  {
   "cell_type": "markdown",
   "id": "b3f01120",
   "metadata": {},
   "source": [
    "**Objectives:**\n",
    "\n",
    "    *List Popular Languages that Data Scientists use\n",
    "    \n",
    "    *List Commonly used libraries that Data Scientists use\n",
    "    \n",
    "    *List Data Science Tools\n",
    "    \n",
    "    *Sample Arithmetic Expression to Multiply and then Add Integer"
   ]
  },
  {
   "cell_type": "markdown",
   "id": "d8bd72b4",
   "metadata": {},
   "source": [
    "Some of the popular languages that Data Scientists use are:\n",
    "\n",
    "    1.R\n",
    "    \n",
    "    2.Python\n",
    "    \n",
    "    3.SQL\n",
    "    \n",
    "    4.Java"
   ]
  },
  {
   "cell_type": "markdown",
   "id": "d02c5a02",
   "metadata": {},
   "source": [
    "Some of the commonly used libraries used by Data Scientists include:\n",
    "    \n",
    "    1.TensorFlow\n",
    "    \n",
    "    2.NumPy\n",
    "    \n",
    "    3.SciPy\n",
    "    \n",
    "    4.Scikit-Learn"
   ]
  },
  {
   "cell_type": "markdown",
   "id": "e94ff154",
   "metadata": {},
   "source": [
    "| Data Science Tools |\n",
    "--------------------\n",
    "| TensorFlow |\n",
    "| Apache SPARK|\n",
    "| Tableau |\n",
    "| Python |"
   ]
  },
  {
   "cell_type": "markdown",
   "id": "583c9b08",
   "metadata": {},
   "source": [
    "### Below are a few examples of evaluating arithmetic expressions in Python"
   ]
  },
  {
   "cell_type": "code",
   "execution_count": 5,
   "id": "bd6fd64c",
   "metadata": {},
   "outputs": [],
   "source": [
    "#This a simple arithmetic expression to multiply then add integers"
   ]
  },
  {
   "cell_type": "code",
   "execution_count": 6,
   "id": "a6194241",
   "metadata": {},
   "outputs": [
    {
     "data": {
      "text/plain": [
       "17"
      ]
     },
     "execution_count": 6,
     "metadata": {},
     "output_type": "execute_result"
    }
   ],
   "source": [
    "(3*4)+5"
   ]
  },
  {
   "cell_type": "code",
   "execution_count": 7,
   "id": "2f9ca05b",
   "metadata": {},
   "outputs": [],
   "source": [
    "#This will convert 200 minutes to hours by diving by 60"
   ]
  },
  {
   "cell_type": "code",
   "execution_count": 8,
   "id": "7b56b5a2",
   "metadata": {},
   "outputs": [
    {
     "data": {
      "text/plain": [
       "3.3333333333333335"
      ]
     },
     "execution_count": 8,
     "metadata": {},
     "output_type": "execute_result"
    }
   ],
   "source": [
    "200/60"
   ]
  },
  {
   "cell_type": "markdown",
   "id": "008a0be7",
   "metadata": {},
   "source": [
    "## Author\n",
    "Vishal Krishna P"
   ]
  },
  {
   "cell_type": "code",
   "execution_count": null,
   "id": "aea3d9fe",
   "metadata": {},
   "outputs": [],
   "source": []
  }
 ],
 "metadata": {
  "kernelspec": {
   "display_name": "Python 3",
   "language": "python",
   "name": "python3"
  },
  "language_info": {
   "codemirror_mode": {
    "name": "ipython",
    "version": 3
   },
   "file_extension": ".py",
   "mimetype": "text/x-python",
   "name": "python",
   "nbconvert_exporter": "python",
   "pygments_lexer": "ipython3",
   "version": "3.8.8"
  }
 },
 "nbformat": 4,
 "nbformat_minor": 5
}
